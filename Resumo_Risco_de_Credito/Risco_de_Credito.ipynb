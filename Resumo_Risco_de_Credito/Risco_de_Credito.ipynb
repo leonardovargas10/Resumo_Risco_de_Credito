{
 "cells": [
  {
   "cell_type": "markdown",
   "metadata": {},
   "source": [
    "<h1 style='color: blue; font-size: 34px; font-weight: bold;'> Projeto Proposto \n",
    "</h1>\n",
    "\n",
    "<p style='font-size: 18px; line-height: 2; margin: 0px 0px; text-align: justify; text-indent: 0px;'>    \n",
    "<i> Este projeto baseia-se no Estudo de Gestão e Análise de Risco de Crédito. </i>       \n",
    "</p>  "
   ]
  },
  {
   "attachments": {},
   "cell_type": "markdown",
   "metadata": {},
   "source": [
    "# <font color='red' style='font-size: 40px;'> 1.0) Introdução  </font>"
   ]
  },
  {
   "attachments": {},
   "cell_type": "markdown",
   "metadata": {},
   "source": [
    "## 1.1) O que é Crédito?\n",
    "\n",
    "> 1. Crédito é uma palavra derivada do latim, significando “confiança”. Ele é uma espécie de empréstimo solicitado por um cliente a um banco ou alguma instituição financeira visando antecipar algum tipo de gasto, auxiliando o solicitante quando o mesmo não possui o capital.  Pelo fato de ser um empréstimo, a concessão de crédito é realizada sob condições de incerteza, portanto, ela baseia-se em determinadas metodologias a fim de garantir maior confiabilidade e segurança. Por se tratar de uma incerteza, esse processo está diretamente ligado a riscos, logo, o credor necessita de algumas garantias as quais serão protocoladas após uma análise criteriosa sobre diversas variáveis a respeito do cliente. \n",
    "\n",
    "## 1.2) O que é Risco de Crédito?\n",
    "\n",
    "> 1. O risco de crédito nada mais é do que a probabilidade de perda financeira decorrente do não cumprimento de obrigações de pagamento por parte do solicitante, logo, uma boa análise resultará na criação de um “score de cliente”, sendo dividido em bom ou mau pagador. Como dito anteriormente, tal análise baseia-se em inúmeras variáveis compostas de dados internos e externos sobre o cliente, o produto escolhido e tantas outras categorias, visto que é de suma importância definir corretamente o perfil do solicitante a fim de melhorar a gestão, mitigar os riscos e garantir que a instituição financeira receba o pagamento para continuar existindo.\n",
    "\n",
    "> 2. Como envolve diversas variáveis e diversos clientes, as bases de dados costumam ser bastante extensas e analisá-las a olho nu torna-se praticamente impossível. Nesse âmbito, a utilização de softwares baseados em técnicas matemáticas e estatísticas tornam-se fundamentais, pois permitem a classificação em larga escala, de forma automática e segura, criando-se assim o que chamamos de “Modelos de Credit Scoring”, os quais, de acordo com Laredo, “possuem o objetivo de prever, na data de decisão do crédito, a probabilidade da concessão tornar-se uma perda para o credor” (LAREDO, 2010, p.1).\n"
   ]
  },
  {
   "cell_type": "code",
   "execution_count": null,
   "metadata": {},
   "outputs": [],
   "source": []
  }
 ],
 "metadata": {
  "kernelspec": {
   "display_name": "base",
   "language": "python",
   "name": "python3"
  },
  "language_info": {
   "name": "python",
   "version": "3.9.12"
  },
  "orig_nbformat": 4,
  "vscode": {
   "interpreter": {
    "hash": "5a9a036f549c34521959f2e35c11282d59c2fa6997060d671aa6f29f1c44b680"
   }
  }
 },
 "nbformat": 4,
 "nbformat_minor": 2
}
